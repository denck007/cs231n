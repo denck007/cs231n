{
 "cells": [
  {
   "cell_type": "code",
   "execution_count": 2,
   "metadata": {
    "collapsed": false
   },
   "outputs": [
    {
     "name": "stdout",
     "output_type": "stream",
     "text": [
      "[[[ 1  2  3]\n",
      "  [ 4  5  6]]\n",
      "\n",
      " [[-1 -2 -3]\n",
      "  [-4 -5 -6]]]\n",
      " \n",
      "[[ 1  2  3  4  5  6]\n",
      " [-1 -2 -3 -4 -5 -6]]\n"
     ]
    }
   ],
   "source": [
    "import numpy as np\n",
    "a = np.array([[[1,2,3],[4,5,6]],[[-1,-2,-3],[-4,-5,-6]]])\n",
    "print a\n",
    "print \" \"\n",
    "print np.reshape(a,(2,-1))"
   ]
  },
  {
   "cell_type": "code",
   "execution_count": 60,
   "metadata": {
    "collapsed": false
   },
   "outputs": [],
   "source": [
    "a = {'a':1,'b':2}"
   ]
  },
  {
   "cell_type": "code",
   "execution_count": 62,
   "metadata": {
    "collapsed": false
   },
   "outputs": [
    {
     "name": "stdout",
     "output_type": "stream",
     "text": [
      "a\n",
      "b\n"
     ]
    }
   ],
   "source": [
    "for name in a:\n",
    "    print name"
   ]
  },
  {
   "cell_type": "code",
   "execution_count": 16,
   "metadata": {
    "collapsed": false
   },
   "outputs": [
    {
     "data": {
      "text/plain": [
       "1.3438117072454992e-12"
      ]
     },
     "execution_count": 16,
     "metadata": {},
     "output_type": "execute_result"
    }
   ],
   "source": [
    "a = np.random.rand(2,3,4)\n",
    "a.prod()"
   ]
  },
  {
   "cell_type": "code",
   "execution_count": 17,
   "metadata": {
    "collapsed": false
   },
   "outputs": [
    {
     "data": {
      "text/plain": [
       "(3, 4)"
      ]
     },
     "execution_count": 17,
     "metadata": {},
     "output_type": "execute_result"
    }
   ],
   "source": [
    "a.shape[1:]"
   ]
  },
  {
   "cell_type": "code",
   "execution_count": 18,
   "metadata": {
    "collapsed": false
   },
   "outputs": [
    {
     "data": {
      "text/plain": [
       "12"
      ]
     },
     "execution_count": 18,
     "metadata": {},
     "output_type": "execute_result"
    }
   ],
   "source": [
    "np.prod(a.shape[1:])"
   ]
  },
  {
   "cell_type": "code",
   "execution_count": 19,
   "metadata": {
    "collapsed": false
   },
   "outputs": [
    {
     "data": {
      "text/plain": [
       "array([[ 0.,  0.,  0.,  0.,  0.,  0.,  0.,  0.,  0.,  0.]])"
      ]
     },
     "execution_count": 19,
     "metadata": {},
     "output_type": "execute_result"
    }
   ],
   "source": [
    "np.zeros([1,10])"
   ]
  },
  {
   "cell_type": "code",
   "execution_count": 37,
   "metadata": {
    "collapsed": false
   },
   "outputs": [
    {
     "name": "stdout",
     "output_type": "stream",
     "text": [
      "0.999501437368 0.00437156257631\n"
     ]
    }
   ],
   "source": [
    "a = np.random.rand(1000)\n",
    "print max(a), min(a)"
   ]
  },
  {
   "cell_type": "code",
   "execution_count": 43,
   "metadata": {
    "collapsed": false
   },
   "outputs": [
    {
     "data": {
      "text/plain": [
       "'W1'"
      ]
     },
     "execution_count": 43,
     "metadata": {},
     "output_type": "execute_result"
    }
   ],
   "source": [
    "'W' + str(1)"
   ]
  },
  {
   "cell_type": "code",
   "execution_count": 44,
   "metadata": {
    "collapsed": false
   },
   "outputs": [
    {
     "data": {
      "text/plain": [
       "array([[ 0.55458916,  0.47846853,  0.21433458],\n",
       "       [ 0.69256609,  0.49647821,  0.45277525]])"
      ]
     },
     "execution_count": 44,
     "metadata": {},
     "output_type": "execute_result"
    }
   ],
   "source": [
    "np.random.rand(2,3)"
   ]
  },
  {
   "cell_type": "code",
   "execution_count": 48,
   "metadata": {
    "collapsed": false
   },
   "outputs": [
    {
     "data": {
      "text/plain": [
       "array([0, 1, 2, 3, 4, 5, 6, 7, 8, 9])"
      ]
     },
     "execution_count": 48,
     "metadata": {},
     "output_type": "execute_result"
    }
   ],
   "source": [
    "np.arange(10)"
   ]
  },
  {
   "cell_type": "code",
   "execution_count": 116,
   "metadata": {
    "collapsed": false
   },
   "outputs": [
    {
     "data": {
      "text/plain": [
       "[1, 2, 3, 4, 5, 6, 7, 8, 9]"
      ]
     },
     "execution_count": 116,
     "metadata": {},
     "output_type": "execute_result"
    }
   ],
   "source": [
    "range(1,10)"
   ]
  },
  {
   "cell_type": "code",
   "execution_count": 57,
   "metadata": {
    "collapsed": false
   },
   "outputs": [
    {
     "data": {
      "text/plain": [
       "[(1, 3, 2), (3, 4, 2)]"
      ]
     },
     "execution_count": 57,
     "metadata": {},
     "output_type": "execute_result"
    }
   ],
   "source": [
    "a = (1,3,2)\n",
    "b = (3,4,2)\n",
    "c = [a]\n",
    "c.append(b)\n",
    "c"
   ]
  },
  {
   "cell_type": "code",
   "execution_count": 59,
   "metadata": {
    "collapsed": false
   },
   "outputs": [
    {
     "data": {
      "text/plain": [
       "[9, 8, 7, 6, 5, 4, 3, 2, 1, 0]"
      ]
     },
     "execution_count": 59,
     "metadata": {},
     "output_type": "execute_result"
    }
   ],
   "source": [
    "range(9,-1,-1)"
   ]
  },
  {
   "cell_type": "code",
   "execution_count": 70,
   "metadata": {
    "collapsed": false
   },
   "outputs": [
    {
     "name": "stdout",
     "output_type": "stream",
     "text": [
      "[ 0.69000152  0.84067577  0.10400165  0.10540073  0.01525539  0.536347\n",
      "  0.81620076  0.8601594   0.20953259  0.52526983]\n",
      "[  7.98608865e-02   9.76940062e-02   1.05046039e-02   1.06701926e-02\n",
      "   1.00000000e-06   6.16750357e-02   9.47972550e-02   1.00000000e-01\n",
      "   2.29947662e-02   6.03639917e-02]\n"
     ]
    }
   ],
   "source": [
    "min_val = 1e-6\n",
    "max_val = 1e-1\n",
    "vals_temp = np.random.rand(10)\n",
    "vals = min_val + ((vals_temp-min(vals_temp))*(max_val-min_val))/(max(vals_temp)-min(vals_temp))\n",
    "print vals_temp\n",
    "print vals"
   ]
  },
  {
   "cell_type": "code",
   "execution_count": 76,
   "metadata": {
    "collapsed": false
   },
   "outputs": [
    {
     "data": {
      "text/plain": [
       "0.025000000000000005"
      ]
     },
     "execution_count": 76,
     "metadata": {},
     "output_type": "execute_result"
    }
   ],
   "source": [
    "np.log(.05)\n",
    "10**np.log10(0.025)\n"
   ]
  },
  {
   "cell_type": "code",
   "execution_count": 79,
   "metadata": {
    "collapsed": false
   },
   "outputs": [
    {
     "name": "stdout",
     "output_type": "stream",
     "text": [
      "[  3.03367379e-04   2.56548052e-04   9.13706893e-02   5.06991526e-03\n",
      "   5.00583082e-05]\n",
      "[ 0.03447138  0.0357242   0.01769358  0.01614854  0.03760397]\n"
     ]
    }
   ],
   "source": [
    "num_points = 5\n",
    "learning_rate = 10**np.random.uniform(-6, -1,num_points)\n",
    "weight_rate = 10**np.random.uniform(np.log10(.009), np.log10(.05),num_points)\n",
    "print learning_rate\n",
    "print weight_rate"
   ]
  },
  {
   "cell_type": "code",
   "execution_count": 92,
   "metadata": {
    "collapsed": false
   },
   "outputs": [
    {
     "name": "stdout",
     "output_type": "stream",
     "text": [
      "0.00900154645964\n",
      "0.0499935372003\n"
     ]
    }
   ],
   "source": [
    "weight_rate = 10**np.random.uniform(np.log10(.009), np.log10(.05),10000)\n",
    "print min(weight_rate)\n",
    "print max(weight_rate)"
   ]
  },
  {
   "cell_type": "code",
   "execution_count": 101,
   "metadata": {
    "collapsed": false
   },
   "outputs": [
    {
     "name": "stdout",
     "output_type": "stream",
     "text": [
      "start\n",
      "0.025515518154\n",
      "end\n",
      "0.000223159790039\n"
     ]
    }
   ],
   "source": [
    "from timeit import default_timer as timer\n",
    "print \"start\"\n",
    "start = timer()\n",
    "print np.sqrt(2.0/3072)\n",
    "print \"end\"\n",
    "end = timer()\n",
    "print end-start"
   ]
  },
  {
   "cell_type": "code",
   "execution_count": 104,
   "metadata": {
    "collapsed": false
   },
   "outputs": [
    {
     "name": "stdout",
     "output_type": "stream",
     "text": [
      "[[1 2 3]\n",
      " [4 5 6]]\n"
     ]
    }
   ],
   "source": [
    "a = np.array([[1,2,3],[4,5,6]])\n",
    "print a"
   ]
  },
  {
   "cell_type": "code",
   "execution_count": 108,
   "metadata": {
    "collapsed": false
   },
   "outputs": [
    {
     "data": {
      "text/plain": [
       "array([[-1.5, -1.5, -1.5],\n",
       "       [ 1.5,  1.5,  1.5]])"
      ]
     },
     "execution_count": 108,
     "metadata": {},
     "output_type": "execute_result"
    }
   ],
   "source": [
    "mu_a = np.mean(a,axis = 0)\n",
    "a-mu_a"
   ]
  },
  {
   "cell_type": "code",
   "execution_count": 109,
   "metadata": {
    "collapsed": false
   },
   "outputs": [
    {
     "data": {
      "text/plain": [
       "array([5, 7, 9])"
      ]
     },
     "execution_count": 109,
     "metadata": {},
     "output_type": "execute_result"
    }
   ],
   "source": [
    "np.sum(a,axis = 0)"
   ]
  },
  {
   "cell_type": "code",
   "execution_count": 110,
   "metadata": {
    "collapsed": false
   },
   "outputs": [
    {
     "data": {
      "text/plain": [
       "3.1622776601683795"
      ]
     },
     "execution_count": 110,
     "metadata": {},
     "output_type": "execute_result"
    }
   ],
   "source": [
    "10**.5"
   ]
  },
  {
   "cell_type": "code",
   "execution_count": 114,
   "metadata": {
    "collapsed": false
   },
   "outputs": [
    {
     "data": {
      "text/plain": [
       "array([ 1.,  1.,  1.,  1.,  1.])"
      ]
     },
     "execution_count": 114,
     "metadata": {},
     "output_type": "execute_result"
    }
   ],
   "source": [
    "np.ones(5)"
   ]
  },
  {
   "cell_type": "code",
   "execution_count": 10,
   "metadata": {
    "collapsed": false
   },
   "outputs": [
    {
     "name": "stdout",
     "output_type": "stream",
     "text": [
      "[[ 0.25500984  0.41117325  0.35327425  0.89822056]\n",
      " [ 0.95775968  0.96490707  0.82781518  0.93678483]]\n",
      "2\n",
      "4\n"
     ]
    },
    {
     "data": {
      "text/plain": [
       "[0, 1]"
      ]
     },
     "execution_count": 10,
     "metadata": {},
     "output_type": "execute_result"
    }
   ],
   "source": [
    "a = np.random.rand(2,4)\n",
    "print a\n",
    "b,c = a.shape\n",
    "print b\n",
    "print c\n",
    "range(0,b)"
   ]
  },
  {
   "cell_type": "code",
   "execution_count": 13,
   "metadata": {
    "collapsed": false
   },
   "outputs": [
    {
     "data": {
      "text/plain": [
       "array([[ 0.25500984,  0.41117325,  0.35327425,  0.89822056],\n",
       "       [ 0.95775968,  0.96490707,  0.82781518,  0.93678483]])"
      ]
     },
     "execution_count": 13,
     "metadata": {},
     "output_type": "execute_result"
    }
   ],
   "source": [
    "a"
   ]
  },
  {
   "cell_type": "code",
   "execution_count": 21,
   "metadata": {
    "collapsed": false
   },
   "outputs": [
    {
     "name": "stdout",
     "output_type": "stream",
     "text": [
      "[[ 1  2  3  4  5]\n",
      " [ 6  7  8  9 10]]\n"
     ]
    },
    {
     "data": {
      "text/plain": [
       "array([[2, 3, 4],\n",
       "       [7, 8, 9]])"
      ]
     },
     "execution_count": 21,
     "metadata": {},
     "output_type": "execute_result"
    }
   ],
   "source": [
    "a = np.array([[1,2,3,4,5],[6,7,8,9,10]])\n",
    "print a\n",
    "p = 1\n",
    "a[:,p:-p]"
   ]
  },
  {
   "cell_type": "raw",
   "metadata": {},
   "source": [
    "asd"
   ]
  },
  {
   "cell_type": "code",
   "execution_count": 37,
   "metadata": {
    "collapsed": false
   },
   "outputs": [
    {
     "data": {
      "text/plain": [
       "array([[ 1.,  1.,  1.],\n",
       "       [ 1.,  1.,  1.]])"
      ]
     },
     "execution_count": 37,
     "metadata": {},
     "output_type": "execute_result"
    }
   ],
   "source": [
    "np.ones([2,3])"
   ]
  },
  {
   "cell_type": "code",
   "execution_count": 35,
   "metadata": {
    "collapsed": false
   },
   "outputs": [
    {
     "data": {
      "text/plain": [
       "array([ 1,  2,  3,  4,  5,  6,  7,  8,  9, 10])"
      ]
     },
     "execution_count": 35,
     "metadata": {},
     "output_type": "execute_result"
    }
   ],
   "source": [
    "a.flatten()"
   ]
  },
  {
   "cell_type": "code",
   "execution_count": 57,
   "metadata": {
    "collapsed": false
   },
   "outputs": [
    {
     "name": "stdout",
     "output_type": "stream",
     "text": [
      "[[[ 0  1  2]\n",
      "  [10 11 12]]]\n"
     ]
    }
   ],
   "source": [
    "a = np.array([[[0,1,2],[10,11,12]]])\n",
    "print a"
   ]
  },
  {
   "cell_type": "code",
   "execution_count": 58,
   "metadata": {
    "collapsed": false
   },
   "outputs": [
    {
     "data": {
      "text/plain": [
       "array([[[ 0,  1,  2]],\n",
       "\n",
       "       [[10, 11, 12]]])"
      ]
     },
     "execution_count": 58,
     "metadata": {},
     "output_type": "execute_result"
    }
   ],
   "source": [
    "a.transpose(1,0,2)"
   ]
  },
  {
   "cell_type": "code",
   "execution_count": 44,
   "metadata": {
    "collapsed": false
   },
   "outputs": [
    {
     "name": "stdout",
     "output_type": "stream",
     "text": [
      "[[0 1 2]\n",
      " [3 4 5]]\n"
     ]
    }
   ],
   "source": [
    "a = np.array([[0,1,2],[3,4,5]])\n",
    "print a"
   ]
  },
  {
   "cell_type": "code",
   "execution_count": 46,
   "metadata": {
    "collapsed": false
   },
   "outputs": [
    {
     "data": {
      "text/plain": [
       "array([[0, 3],\n",
       "       [1, 4],\n",
       "       [2, 5]])"
      ]
     },
     "execution_count": 46,
     "metadata": {},
     "output_type": "execute_result"
    }
   ],
   "source": [
    "a.transpose(1,0)"
   ]
  },
  {
   "cell_type": "code",
   "execution_count": 61,
   "metadata": {
    "collapsed": false
   },
   "outputs": [
    {
     "name": "stdout",
     "output_type": "stream",
     "text": [
      "(1, 2, 3, 4)\n",
      "(2, 1, 3, 4)\n"
     ]
    }
   ],
   "source": [
    "a = np.ones([1,2,3,4])\n",
    "print a.shape\n",
    "print a.transpose(1,0,2,3).shape\n"
   ]
  },
  {
   "cell_type": "code",
   "execution_count": 74,
   "metadata": {
    "collapsed": false
   },
   "outputs": [
    {
     "name": "stdout",
     "output_type": "stream",
     "text": [
      "[ 16.   8.  13.  10.   5.  11.   3.   5.   6.  12.  14.  12.  19.   7.]\n",
      "[ 16.  13.   5.   3.   6.]\n"
     ]
    }
   ],
   "source": [
    "a = np.round(np.random.rand(14)*20)\n",
    "print a\n",
    "print a[0:10:2]\n"
   ]
  },
  {
   "cell_type": "code",
   "execution_count": 78,
   "metadata": {
    "collapsed": false
   },
   "outputs": [
    {
     "name": "stdout",
     "output_type": "stream",
     "text": [
      "[[ 0.31368864  0.96457572  0.62576955  0.09134992]\n",
      " [ 0.18372827  0.25455635  0.35413056  0.04937083]\n",
      " [ 0.9101775   0.30291213  0.69860328  0.65634354]\n",
      " [ 0.02726941  0.13160082  0.07559342  0.95584815]]\n",
      "[[ 0.31368864  0.96457572  0.62576955  0.09134992]\n",
      " [ 0.18372827  0.25455635  0.35413056  0.04937083]\n",
      " [ 0.9101775   0.30291213  0.69860328  0.65634354]\n",
      " [ 0.02726941  0.13160082  0.07559342  0.95584815]]\n"
     ]
    }
   ],
   "source": [
    "x = np.random.rand(4,4)\n",
    "print x\n",
    "x.flatten()[10] = 10\n",
    "print x"
   ]
  },
  {
   "cell_type": "code",
   "execution_count": 86,
   "metadata": {
    "collapsed": false
   },
   "outputs": [
    {
     "data": {
      "text/plain": [
       "60"
      ]
     },
     "execution_count": 86,
     "metadata": {},
     "output_type": "execute_result"
    }
   ],
   "source": [
    "a = (3,2,10)\n",
    "np.prod(a)"
   ]
  },
  {
   "cell_type": "code",
   "execution_count": 88,
   "metadata": {
    "collapsed": false
   },
   "outputs": [
    {
     "ename": "NameError",
     "evalue": "name 'rel_error' is not defined",
     "output_type": "error",
     "traceback": [
      "\u001b[1;31m---------------------------------------------------------------------------\u001b[0m",
      "\u001b[1;31mNameError\u001b[0m                                 Traceback (most recent call last)",
      "\u001b[1;32m<ipython-input-88-cb628e42b09c>\u001b[0m in \u001b[0;36m<module>\u001b[1;34m()\u001b[0m\n\u001b[1;32m----> 1\u001b[1;33m \u001b[0mrel_error\u001b[0m\u001b[1;33m(\u001b[0m\u001b[1;33m)\u001b[0m\u001b[1;33m\u001b[0m\u001b[0m\n\u001b[0m",
      "\u001b[1;31mNameError\u001b[0m: name 'rel_error' is not defined"
     ]
    }
   ],
   "source": [
    "rel_error()"
   ]
  },
  {
   "cell_type": "code",
   "execution_count": 91,
   "metadata": {
    "collapsed": false
   },
   "outputs": [
    {
     "name": "stdout",
     "output_type": "stream",
     "text": [
      "0\n",
      "1\n",
      "1\n"
     ]
    }
   ],
   "source": [
    "for layer in range(2):\n",
    "    print layer\n",
    "print layer"
   ]
  },
  {
   "cell_type": "code",
   "execution_count": 97,
   "metadata": {
    "collapsed": false
   },
   "outputs": [
    {
     "name": "stdout",
     "output_type": "stream",
     "text": [
      "[0, 1, 2]\n",
      "[3, 4]\n"
     ]
    }
   ],
   "source": [
    "a = 3\n",
    "b = 2\n",
    "print range(a)\n",
    "print range(a,a+b)"
   ]
  },
  {
   "cell_type": "code",
   "execution_count": 105,
   "metadata": {
    "collapsed": false
   },
   "outputs": [
    {
     "name": "stdout",
     "output_type": "stream",
     "text": [
      "5\n",
      "4\n",
      "3\n",
      "2\n",
      "1\n"
     ]
    }
   ],
   "source": [
    "nl = 5\n",
    "a = 2\n",
    "c = 2\n",
    "print nl\n",
    "for A in range(nl-1,nl-1-a,-1):\n",
    "    print A\n",
    "for C in range(A-1,0,-1):\n",
    "    print C"
   ]
  },
  {
   "cell_type": "code",
   "execution_count": 110,
   "metadata": {
    "collapsed": false
   },
   "outputs": [
    {
     "name": "stdout",
     "output_type": "stream",
     "text": [
      "{'W1': array([1, 0]), 'b0': array([0]), 'W2': array([2, 0]), 'b2': array([0]), 'W0': array([0, 0]), 'b1': array([0])}\n",
      "[1 0]\n",
      "[2 0]\n",
      "[0 0]\n"
     ]
    }
   ],
   "source": [
    "param = {}\n",
    "for layer in range(3):\n",
    "    param['W'+ str(layer)] = np.array([layer,layer/10])\n",
    "    param['b'+ str(layer)] = np.array([0])\n",
    "print param\n",
    "for layer, w in param.iteritems():\n",
    "    if str(layer).startswith('W'):\n",
    "        print w"
   ]
  },
  {
   "cell_type": "code",
   "execution_count": 14,
   "metadata": {
    "collapsed": false
   },
   "outputs": [
    {
     "name": "stdout",
     "output_type": "stream",
     "text": [
      "[8 4]\n",
      "[[[ 0.66862174]\n",
      "  [ 0.24057318]]\n",
      "\n",
      " [[ 0.64566707]\n",
      "  [ 0.74664294]]\n",
      "\n",
      " [[ 0.86495037]\n",
      "  [ 0.1462108 ]]\n",
      "\n",
      " [[ 0.25260407]\n",
      "  [ 0.09053615]]\n",
      "\n",
      " [[ 0.59086689]\n",
      "  [ 0.55078002]]\n",
      "\n",
      " [[ 0.12530605]\n",
      "  [ 0.19794095]]\n",
      "\n",
      " [[ 0.3656875 ]\n",
      "  [ 0.78399902]]\n",
      "\n",
      " [[ 0.52715654]\n",
      "  [ 0.42290583]]\n",
      "\n",
      " [[ 0.06810992]\n",
      "  [ 0.60797933]]\n",
      "\n",
      " [[ 0.55676904]\n",
      "  [ 0.24585285]]]\n"
     ]
    },
    {
     "data": {
      "text/plain": [
       "array([[[ 0.06810992],\n",
       "        [ 0.60797933]],\n",
       "\n",
       "       [[ 0.59086689],\n",
       "        [ 0.55078002]]])"
      ]
     },
     "execution_count": 14,
     "metadata": {},
     "output_type": "execute_result"
    }
   ],
   "source": [
    "import numpy as np\n",
    "a = np.random.rand(10,2,1)\n",
    "mask = np.random.choice(a.shape[0], 2)\n",
    "print mask\n",
    "print a\n",
    "a[mask]"
   ]
  },
  {
   "cell_type": "code",
   "execution_count": 15,
   "metadata": {
    "collapsed": false
   },
   "outputs": [
    {
     "name": "stdout",
     "output_type": "stream",
     "text": [
      "[0, 1]\n"
     ]
    }
   ],
   "source": [
    "print range(2)"
   ]
  },
  {
   "cell_type": "code",
   "execution_count": 17,
   "metadata": {
    "collapsed": false
   },
   "outputs": [
    {
     "name": "stdout",
     "output_type": "stream",
     "text": [
      "[  5.94201247e-03   5.70756570e-05   6.74507955e-01   7.62377810e-01]\n",
      "[  5.94201247e-03   5.70756570e-05   6.74507955e-01   7.62377810e-01]\n",
      "[  1.00000000e+00   5.70756570e-05   6.74507955e-01   7.62377810e-01]\n"
     ]
    }
   ],
   "source": [
    "a = np.random.rand(4)\n",
    "print a\n",
    "b = np.copy(a)\n",
    "b[0] = 1\n",
    "print a\n",
    "print b"
   ]
  },
  {
   "cell_type": "code",
   "execution_count": 36,
   "metadata": {
    "collapsed": false
   },
   "outputs": [
    {
     "name": "stdout",
     "output_type": "stream",
     "text": [
      "0.000195420908928\n",
      "0.000112979006767\n",
      "42.1868379453\n"
     ]
    }
   ],
   "source": [
    "a = np.random.rand(500,10)\n",
    "b = np.random.rand(10,200)\n",
    "\n",
    "import time\n",
    "numIter = 10000\n",
    "\n",
    "t_start = time.time()\n",
    "for ii in range(numIter):\n",
    "    c = np.dot(a,b)\n",
    "    d = np.dot(a,b)\n",
    "    e = c+d\n",
    "\n",
    "t_per_iter_sep = (time.time()-t_start)/numIter\n",
    "\n",
    "a = np.random.rand(500,10)\n",
    "b = np.random.rand(10,b.shape[1]*2)\n",
    "\n",
    "t_start = time.time()\n",
    "for ii in range(numIter):\n",
    "    c = np.dot(a,b)\n",
    "\n",
    "t_per_iter_com = (time.time()-t_start)/numIter\n",
    "\n",
    "perFaster = (t_per_iter_sep-t_per_iter_com)/t_per_iter_sep*100\n",
    "\n",
    "print t_per_iter_sep\n",
    "print t_per_iter_com\n",
    "print perFaster"
   ]
  },
  {
   "cell_type": "code",
   "execution_count": 48,
   "metadata": {
    "collapsed": false
   },
   "outputs": [
    {
     "name": "stdout",
     "output_type": "stream",
     "text": [
      "0.000200510025024\n",
      "0.00012964963913\n",
      "35.3400713436\n"
     ]
    }
   ],
   "source": [
    "a = np.random.rand(500,10)\n",
    "b = np.random.rand(10,200)\n",
    "\n",
    "import time\n",
    "numIter = 100\n",
    "\n",
    "t_start = time.time()\n",
    "for ii in range(numIter):\n",
    "    c = np.dot(a,b)\n",
    "    d = np.dot(a,b)\n",
    "    e = c+d\n",
    "\n",
    "t_per_iter_sep = (time.time()-t_start)/numIter\n",
    "\n",
    "t_start = time.time()\n",
    "for ii in range(numIter):\n",
    "    c = np.dot(a,np.concatenate((b,b),axis = 1))\n",
    "\n",
    "t_per_iter_com = (time.time()-t_start)/numIter\n",
    "\n",
    "perFaster = (t_per_iter_sep-t_per_iter_com)/t_per_iter_sep*100\n",
    "\n",
    "print t_per_iter_sep\n",
    "print t_per_iter_com\n",
    "print perFaster"
   ]
  },
  {
   "cell_type": "code",
   "execution_count": 43,
   "metadata": {
    "collapsed": false
   },
   "outputs": [
    {
     "name": "stdout",
     "output_type": "stream",
     "text": [
      "[[ 0.44058473  0.20330871]\n",
      " [ 0.51287846  0.37876293]\n",
      " [ 0.64226346  0.08871139]]\n",
      "[[ 0.44058473  0.20330871]\n",
      " [ 0.51287846  0.37876293]\n",
      " [ 0.64226346  0.08871139]\n",
      " [ 0.44058473  0.20330871]\n",
      " [ 0.51287846  0.37876293]\n",
      " [ 0.64226346  0.08871139]]\n"
     ]
    }
   ],
   "source": [
    "a = np.random.rand(3,2)\n",
    "print a\n",
    "\n",
    "b = np.concatenate((a,a))\n",
    "print b"
   ]
  },
  {
   "cell_type": "code",
   "execution_count": 4,
   "metadata": {
    "collapsed": false
   },
   "outputs": [
    {
     "data": {
      "text/plain": [
       "(array([ 71.,  61.,  48.,  41.,  43.,  40.,  40.,  40.,  30.,  30.,  28.,\n",
       "         31.,  22.,  25.,  16.,  21.,  21.,  23.,  19.,  15.,  12.,  18.,\n",
       "          4.,  13.,  13.,  16.,  14.,  11.,  20.,  15.,   8.,  12.,  14.,\n",
       "          9.,  13.,  12.,  16.,   7.,   6.,  13.,   9.,   9.,  10.,   7.,\n",
       "          7.,   8.,   4.,  14.,  12.,   9.]),\n",
       " array([ 1.00217505,  1.18136724,  1.36055944,  1.53975164,  1.71894384,\n",
       "         1.89813604,  2.07732824,  2.25652043,  2.43571263,  2.61490483,\n",
       "         2.79409703,  2.97328923,  3.15248142,  3.33167362,  3.51086582,\n",
       "         3.69005802,  3.86925022,  4.04844242,  4.22763461,  4.40682681,\n",
       "         4.58601901,  4.76521121,  4.94440341,  5.12359561,  5.3027878 ,\n",
       "         5.48198   ,  5.6611722 ,  5.8403644 ,  6.0195566 ,  6.19874879,\n",
       "         6.37794099,  6.55713319,  6.73632539,  6.91551759,  7.09470979,\n",
       "         7.27390198,  7.45309418,  7.63228638,  7.81147858,  7.99067078,\n",
       "         8.16986298,  8.34905517,  8.52824737,  8.70743957,  8.88663177,\n",
       "         9.06582397,  9.24501617,  9.42420836,  9.60340056,  9.78259276,\n",
       "         9.96178496]),\n",
       " <a list of 50 Patch objects>)"
      ]
     },
     "execution_count": 4,
     "metadata": {},
     "output_type": "execute_result"
    }
   ],
   "source": [
    "import numpy as np\n",
    "d = 10**np.random.rand(1000)\n",
    "\n",
    "import matplotlib.pyplot as plt\n",
    "plt.hist(d, 50)"
   ]
  },
  {
   "cell_type": "code",
   "execution_count": 9,
   "metadata": {
    "collapsed": false
   },
   "outputs": [
    {
     "data": {
      "text/plain": [
       "array([0, 0])"
      ]
     },
     "execution_count": 9,
     "metadata": {},
     "output_type": "execute_result"
    }
   ],
   "source": [
    "a = np.random.rand(2)\n",
    "a.astype(np.int)\n"
   ]
  },
  {
   "cell_type": "code",
   "execution_count": null,
   "metadata": {
    "collapsed": true
   },
   "outputs": [],
   "source": []
  }
 ],
 "metadata": {
  "kernelspec": {
   "display_name": "Python [Root]",
   "language": "python",
   "name": "Python [Root]"
  },
  "language_info": {
   "codemirror_mode": {
    "name": "ipython",
    "version": 2
   },
   "file_extension": ".py",
   "mimetype": "text/x-python",
   "name": "python",
   "nbconvert_exporter": "python",
   "pygments_lexer": "ipython2",
   "version": "2.7.12"
  }
 },
 "nbformat": 4,
 "nbformat_minor": 0
}
